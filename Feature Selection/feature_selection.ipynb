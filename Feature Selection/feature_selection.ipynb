{
 "cells": [
  {
   "cell_type": "code",
   "execution_count": 15,
   "metadata": {},
   "outputs": [],
   "source": [
    "import pandas as pd\n",
    "from sklearn.preprocessing import LabelEncoder\n",
    "from sklearn.model_selection import train_test_split\n",
    "from sklearn.tree import DecisionTreeRegressor #Algo for Regression Tree Method\n",
    "\n",
    "superstore = pd.read_csv(\"sample-superstore.csv\",encoding = \"ISO-8859-1\") #Reading CSV\n",
    "\n",
    "superstore_encoded = superstore.copy() # Making a copy of the dataframe\n",
    "\n",
    "# Taking variables that are necessary\n",
    "superstore_encoded = superstore_encoded[['Row ID','Sales','Ship Mode','Segment','City','State','Postal Code','Region','Category','Sub-Category','Product Name','Quantity','Discount','Profit']]\n",
    "\n",
    "le = LabelEncoder() # Using a new label encoder instance"
   ]
  },
  {
   "cell_type": "code",
   "execution_count": 25,
   "metadata": {},
   "outputs": [],
   "source": [
    "superstore_encoded['Ship Mode'] = le.fit_transform(superstore_encoded['Ship Mode'].values) #Transforms Ship Mode into numerical represantation\n",
    "superstore_encoded['Segment'] = le.fit_transform(superstore_encoded['Segment'].values) \n",
    "superstore_encoded['City'] = le.fit_transform(superstore_encoded['City'].values) \n",
    "superstore_encoded['State'] = le.fit_transform(superstore_encoded['State'].values)\n",
    "superstore_encoded['Postal Code'] = le.fit_transform(superstore_encoded['Postal Code'].values) \n",
    "superstore_encoded['Region'] = le.fit_transform(superstore_encoded['Region'].values) \n",
    "superstore_encoded['Category'] = le.fit_transform(superstore_encoded['Category'].values) \n",
    "superstore_encoded['Sub-Category'] = le.fit_transform(superstore_encoded['Sub-Category'].values) \n",
    "superstore_encoded['Product Name'] = le.fit_transform(superstore_encoded['Product Name'].values) \n",
    "\n",
    "\n",
    "# New Variable from existing variable\n",
    "superstore_encoded['ProfitPercent'] = round(superstore_encoded['Profit']/superstore_encoded['Sales'],2) \n"
   ]
  },
  {
   "cell_type": "code",
   "execution_count": 26,
   "metadata": {},
   "outputs": [],
   "source": [
    "# Target is sales - Continuous in nature"
   ]
  },
  {
   "cell_type": "code",
   "execution_count": 27,
   "metadata": {},
   "outputs": [
    {
     "data": {
      "text/plain": [
       "Index(['Row ID', 'Sales', 'Ship Mode', 'Segment', 'City', 'State',\n",
       "       'Postal Code', 'Region', 'Category', 'Sub-Category', 'Product Name',\n",
       "       'Quantity', 'Discount', 'Profit', 'ProfitPercent'],\n",
       "      dtype='object')"
      ]
     },
     "execution_count": 27,
     "metadata": {},
     "output_type": "execute_result"
    }
   ],
   "source": [
    "superstore_encoded.columns"
   ]
  },
  {
   "cell_type": "code",
   "execution_count": 28,
   "metadata": {},
   "outputs": [],
   "source": [
    "feature_cols = ['Ship Mode', 'Segment', 'City', 'State',\n",
    "       'Postal Code', 'Region', 'Category', 'Sub-Category', 'Product Name',\n",
    "       'Quantity', 'Discount', 'Profit', 'ProfitPercent']"
   ]
  },
  {
   "cell_type": "code",
   "execution_count": 29,
   "metadata": {},
   "outputs": [],
   "source": [
    "X = superstore_encoded[feature_cols] # All my features, input to know which is important and which is not\n",
    "Y = superstore_encoded['Sales'] # My Target Variable"
   ]
  },
  {
   "cell_type": "code",
   "execution_count": 30,
   "metadata": {},
   "outputs": [],
   "source": [
    "from sklearn.feature_selection import SelectKBest # Algo that selects no. of best features\n",
    "from sklearn.feature_selection import mutual_info_regression # Function used for SelectKBest for continuous variables"
   ]
  },
  {
   "cell_type": "code",
   "execution_count": 31,
   "metadata": {},
   "outputs": [],
   "source": [
    "feature_select_model = SelectKBest(score_func = mutual_info_regression, k=4) # Model Instance is created"
   ]
  },
  {
   "cell_type": "code",
   "execution_count": 32,
   "metadata": {},
   "outputs": [],
   "source": [
    "fit = feature_select_model.fit(X, Y)"
   ]
  },
  {
   "cell_type": "code",
   "execution_count": 24,
   "metadata": {},
   "outputs": [
    {
     "name": "stdout",
     "output_type": "stream",
     "text": [
      "['Ship Mode', 'Segment', 'City', 'State', 'Postal Code', 'Region', 'Category', 'Sub-Category', 'Product Name', 'Quantity', 'Discount', 'Profit']\n",
      "[0.         0.         0.03525572 0.05578552 0.02788252 0.0265465\n",
      " 0.28810122 0.67819705 0.56408743 0.45165453 0.29894168 1.97228258]\n"
     ]
    }
   ],
   "source": [
    "print(feature_cols)\n",
    "print(fit.scores_) # Without ProfitPercent"
   ]
  },
  {
   "cell_type": "code",
   "execution_count": 33,
   "metadata": {},
   "outputs": [
    {
     "name": "stdout",
     "output_type": "stream",
     "text": [
      "['Ship Mode', 'Segment', 'City', 'State', 'Postal Code', 'Region', 'Category', 'Sub-Category', 'Product Name', 'Quantity', 'Discount', 'Profit', 'ProfitPercent']\n",
      "[0.00225475 0.         0.03959133 0.05829715 0.02670952 0.02491453\n",
      " 0.28785739 0.679914   0.56489797 0.45288801 0.29417075 1.96857573\n",
      " 0.53493825]\n"
     ]
    }
   ],
   "source": [
    "print(feature_cols)\n",
    "print(fit.scores_) # With ProfitPercent"
   ]
  },
  {
   "cell_type": "code",
   "execution_count": null,
   "metadata": {},
   "outputs": [],
   "source": []
  }
 ],
 "metadata": {
  "kernelspec": {
   "display_name": "Python 3",
   "language": "python",
   "name": "python3"
  },
  "language_info": {
   "codemirror_mode": {
    "name": "ipython",
    "version": 3
   },
   "file_extension": ".py",
   "mimetype": "text/x-python",
   "name": "python",
   "nbconvert_exporter": "python",
   "pygments_lexer": "ipython3",
   "version": "3.8.3"
  }
 },
 "nbformat": 4,
 "nbformat_minor": 4
}
